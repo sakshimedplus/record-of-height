{
 "cells": [
  {
   "cell_type": "code",
   "execution_count": 13,
   "id": "3a6442bd",
   "metadata": {},
   "outputs": [
    {
     "name": "stdout",
     "output_type": "stream",
     "text": [
      "____________________________________________________________________________________________________\n",
      "Choose\n",
      " 1 To Add Student\n",
      " 2 To Show Record\n",
      " 3 To Delete Record \n",
      " 4 To search a person \n",
      " 5 To Exit\n",
      "\n",
      "____________________________________________________________________________________________________\n",
      "Choose 1 to 5\n",
      "1\n",
      "Name : sa\n",
      "Height (in cms) : 1232\n",
      "____________________________________________________________________________________________________\n",
      "Choose\n",
      " 1 To Add Student\n",
      " 2 To Show Record\n",
      " 3 To Delete Record \n",
      " 4 To search a person \n",
      " 5 To Exit\n",
      "\n",
      "____________________________________________________________________________________________________\n",
      "Choose 1 to 5\n",
      "qw\n"
     ]
    },
    {
     "ename": "ValueError",
     "evalue": "invalid literal for int() with base 10: 'qw'",
     "output_type": "error",
     "traceback": [
      "\u001b[0;31m---------------------------------------------------------------------------\u001b[0m",
      "\u001b[0;31mValueError\u001b[0m                                Traceback (most recent call last)",
      "Input \u001b[0;32mIn [13]\u001b[0m, in \u001b[0;36m<cell line: 13>\u001b[0;34m()\u001b[0m\n\u001b[1;32m     14\u001b[0m \u001b[38;5;28mprint\u001b[39m(\u001b[38;5;124m\"\u001b[39m\u001b[38;5;124mChoose\u001b[39m\u001b[38;5;130;01m\\n\u001b[39;00m\u001b[38;5;124m 1 To Add Student\u001b[39m\u001b[38;5;130;01m\\n\u001b[39;00m\u001b[38;5;124m 2 To Show Record\u001b[39m\u001b[38;5;130;01m\\n\u001b[39;00m\u001b[38;5;124m 3 To Delete Record \u001b[39m\u001b[38;5;130;01m\\n\u001b[39;00m\u001b[38;5;124m 4 To search a person \u001b[39m\u001b[38;5;130;01m\\n\u001b[39;00m\u001b[38;5;124m 5 To Exit\u001b[39m\u001b[38;5;130;01m\\n\u001b[39;00m\u001b[38;5;124m\"\u001b[39m)\n\u001b[1;32m     15\u001b[0m \u001b[38;5;28mprint\u001b[39m(\u001b[38;5;124m\"\u001b[39m\u001b[38;5;124m_\u001b[39m\u001b[38;5;124m\"\u001b[39m\u001b[38;5;241m*\u001b[39m\u001b[38;5;241m100\u001b[39m)\n\u001b[0;32m---> 16\u001b[0m c\u001b[38;5;241m=\u001b[39m\u001b[38;5;28;43mint\u001b[39;49m\u001b[43m(\u001b[49m\u001b[38;5;28;43minput\u001b[39;49m\u001b[43m(\u001b[49m\u001b[38;5;124;43m\"\u001b[39;49m\u001b[38;5;124;43mChoose 1 to 5\u001b[39;49m\u001b[38;5;130;43;01m\\n\u001b[39;49;00m\u001b[38;5;124;43m\"\u001b[39;49m\u001b[43m)\u001b[49m\u001b[43m)\u001b[49m\n\u001b[1;32m     17\u001b[0m \u001b[38;5;28;01mif\u001b[39;00m c\u001b[38;5;241m==\u001b[39m\u001b[38;5;241m1\u001b[39m:\n\u001b[1;32m     18\u001b[0m     n\u001b[38;5;241m=\u001b[39m\u001b[38;5;28minput\u001b[39m(\u001b[38;5;124m\"\u001b[39m\u001b[38;5;124mName : \u001b[39m\u001b[38;5;124m\"\u001b[39m)\n",
      "\u001b[0;31mValueError\u001b[0m: invalid literal for int() with base 10: 'qw'"
     ]
    }
   ],
   "source": [
    "\n",
    "class hrecord:\n",
    "    dicti={}\n",
    "    def __init__(self,name,height):\n",
    "        self.name=name\n",
    "        self.height=height\n",
    "        self.dicti[name]=height\n",
    "    def get_height(self):\n",
    "        return self.dicti[name]\n",
    "    def __str__(self):\n",
    "        a=self.name+\"  \"+str(self.height)\n",
    "        return a\n",
    "while True:\n",
    "    print(\"_\"*100)\n",
    "    print(\"Choose\\n 1 To Add Student\\n 2 To Show Record\\n 3 To Delete Record \\n 4 To search a person \\n 5 To Exit\\n\")\n",
    "    print(\"_\"*100)\n",
    "    c=int(input(\"Choose 1 to 5\\n\"))\n",
    "    if c==1:\n",
    "        n=input(\"Name : \")\n",
    "        h=input(\"Height (in cms) : \")\n",
    "        hrecord(n,h)\n",
    "    elif c==2:\n",
    "        print(hrecord.dicti)\n",
    "    elif c==3:\n",
    "        name=input(\"Name : \")\n",
    "        if name in hrecord.dicti:\n",
    "            hrecord.dicti.pop(name)\n",
    "        else:\n",
    "            print(\"name not in the records \")\n",
    "    elif c==4:\n",
    "        name=input(\"Name : \")\n",
    "        if name in hrecord.dicti:\n",
    "             print(hrecord.dicti[name])\n",
    "        else:\n",
    "            print(\"name not in the list\")\n",
    "    elif c==5:\n",
    "        break\n",
    "    else:\n",
    "        print(\"invalid choice\")\n",
    "    "
   ]
  },
  {
   "cell_type": "code",
   "execution_count": null,
   "id": "c9eb8f61",
   "metadata": {},
   "outputs": [],
   "source": []
  },
  {
   "cell_type": "code",
   "execution_count": null,
   "id": "ca281b15",
   "metadata": {},
   "outputs": [],
   "source": []
  }
 ],
 "metadata": {
  "kernelspec": {
   "display_name": "Python 3 (ipykernel)",
   "language": "python",
   "name": "python3"
  },
  "language_info": {
   "codemirror_mode": {
    "name": "ipython",
    "version": 3
   },
   "file_extension": ".py",
   "mimetype": "text/x-python",
   "name": "python",
   "nbconvert_exporter": "python",
   "pygments_lexer": "ipython3",
   "version": "3.8.10"
  }
 },
 "nbformat": 4,
 "nbformat_minor": 5
}
